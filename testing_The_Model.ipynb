{
 "cells": [
  {
   "cell_type": "code",
   "execution_count": 11,
   "metadata": {},
   "outputs": [],
   "source": [
    "import pickle\n",
    "import pandas as pd"
   ]
  },
  {
   "cell_type": "code",
   "execution_count": 12,
   "metadata": {},
   "outputs": [],
   "source": [
    "# Later, when you want to use the pickled model\n",
    "with open('model.pkl', 'rb') as file:\n",
    "    Ml_model_predictor = pickle.load(file)"
   ]
  },
  {
   "attachments": {
    "image-2.png": {
     "image/png": "[encoded data removed]"
    },
    "image.png": {
     "image/png": "[encoded data removed]"
    }
   },
   "cell_type": "markdown",
   "metadata": {},
   "source": [
    "# user conditions to give data to the predictor\n",
    "\n",
    "![image.png](attachment:image.png)\n",
    "\n",
    "![image-2.png](attachment:image-2.png)\n",
    "\n",
    "    acre_lot range = (0.0 - 18817.0)\n",
    "\n",
    "    house_size_range = (170.0   - 20821.0)\n",
    "\n",
    "    average_income = ( 0.0   -  $183195.0)\n",
    "\n",
    "    House _age = 1 -36\n",
    "\n",
    "    Old_selling price =  ($10000.0 - $60000000.0)\n",
    "\n",
    "    bed = ( 1.0  - 33.0)\n",
    "\n",
    "    bath = ( 1.0 - 19.0)\n"
   ]
  },
  {
   "cell_type": "code",
   "execution_count": 13,
   "metadata": {},
   "outputs": [
    {
     "name": "stdout",
     "output_type": "stream",
     "text": [
      "   bed  bath  acre_lot  state  house_size  Type  Average(Area Income)  \\\n",
      "0  1.0   3.0       0.9      3       500.0     4              100000.0   \n",
      "\n",
      "   house_age  Old_Selling_Price  \n",
      "0          5           245000.0  \n"
     ]
    }
   ],
   "source": [
    "\n",
    "\n",
    "# Define the feature names and their corresponding data types\n",
    "feature_names = ['bed', 'bath', 'acre_lot', 'state', 'house_size', 'Type',\n",
    "                 'Average(Area Income)', 'house_age', 'Old_Selling_Price']\n",
    "data_types = [float, float, float, int, float, int, float, int, float]\n",
    "\n",
    "# Prompt the user to enter values for each feature\n",
    "user_input = {}\n",
    "for name, dtype in zip(feature_names, data_types):\n",
    "    value = input(f\"Enter value for {name}: \")\n",
    "    user_input[name] = dtype(value)\n",
    "\n",
    "# Create a DataFrame from the user input\n",
    "input_data = pd.DataFrame([user_input])\n",
    "\n",
    "# Print the input data\n",
    "print(input_data)\n"
   ]
  },
  {
   "cell_type": "code",
   "execution_count": 15,
   "metadata": {},
   "outputs": [
    {
     "name": "stdout",
     "output_type": "stream",
     "text": [
      "$356295.71875\n"
     ]
    }
   ],
   "source": [
    "predictions = Ml_model_predictor.predict(input_data)\n",
    "\n",
    "for prediction in predictions:\n",
    "    rounded_prediction = round(prediction, 2)\n",
    "    print(f\"${rounded_prediction}\")"
   ]
  },
  {
   "cell_type": "code",
   "execution_count": null,
   "metadata": {},
   "outputs": [],
   "source": []
  }
 ],
 "metadata": {
  "kernelspec": {
   "display_name": "Python 3",
   "language": "python",
   "name": "python3"
  },
  "language_info": {
   "codemirror_mode": {
    "name": "ipython",
    "version": 3
   },
   "file_extension": ".py",
   "mimetype": "text/x-python",
   "name": "python",
   "nbconvert_exporter": "python",
   "pygments_lexer": "ipython3",
   "version": "3.11.3"
  },
  "orig_nbformat": 4
 },
 "nbformat": 4,
 "nbformat_minor": 2
}
