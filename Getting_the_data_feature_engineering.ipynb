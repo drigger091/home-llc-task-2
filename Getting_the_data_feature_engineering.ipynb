{
 "cells": [
  {
   "attachments": {},
   "cell_type": "markdown",
   "metadata": {},
   "source": [
    "# Problem Statement \n",
    "    Find publicly available data for key *supply-demand* factors that influence US home prices *nationally*. Then, build a data science model that explains how these factors impacted home prices over the last 20 years. Use the S&P Case-Schiller Home Price Index as a proxy for home prices: fred.stlouisfed.org/series/CSUSHPISA.\n",
    "\n",
    "\n",
    "    1) Follow this jupyter file for step1(necessary feature calcaulations)\n",
    "    2) next check out Model_building_implementation , where the features are trained and ML model is sorted and trained\n",
    "    3) The Trained Model is deployed and used to predict from a user given data"
   ]
  },
  {
   "attachments": {},
   "cell_type": "markdown",
   "metadata": {},
   "source": [
    "1) Import Dependencies"
   ]
  },
  {
   "cell_type": "code",
   "execution_count": 30,
   "metadata": {},
   "outputs": [],
   "source": [
    "import pandas as pd\n",
    "import numpy as np\n",
    "import seaborn as sns\n",
    "import warnings\n",
    "warnings.filterwarnings(\"ignore\")\n",
    "import matplotlib.pyplot as plt"
   ]
  },
  {
   "cell_type": "code",
   "execution_count": 31,
   "metadata": {},
   "outputs": [],
   "source": [
    "# getting the realtor_data about house prices nd specifictions\n",
    "\n",
    "df = pd.read_csv(\"realtor-data.csv\")\n"
   ]
  },
  {
   "attachments": {},
   "cell_type": "markdown",
   "metadata": {},
   "source": [
    "# now we have to clean the data and change the format on certain features for better deduction of the features for our model and also mapping it against Schiller home price index"
   ]
  },
  {
   "cell_type": "code",
   "execution_count": 32,
   "metadata": {},
   "outputs": [
    {
     "name": "stdout",
     "output_type": "stream",
     "text": [
      "status                 0\n",
      "bed                55924\n",
      "bath               54682\n",
      "acre_lot           66123\n",
      "city                  52\n",
      "state                  0\n",
      "zip_code             197\n",
      "house_size         53443\n",
      "prev_sold_date    196411\n",
      "price                  0\n",
      "dtype: int64\n"
     ]
    }
   ],
   "source": [
    "null_counts = df.isnull().sum()\n",
    "print(null_counts)"
   ]
  },
  {
   "cell_type": "code",
   "execution_count": 33,
   "metadata": {},
   "outputs": [],
   "source": [
    "df = df.dropna()\n",
    "df['prev_sold_date'] = pd.to_datetime(df['prev_sold_date']).dt.to_period('M')\n",
    "df.rename(columns={'price': 'OldsellingPrice'}, inplace=True)"
   ]
  },
  {
   "cell_type": "code",
   "execution_count": 34,
   "metadata": {},
   "outputs": [
    {
     "data": {
      "text/html": [
       "<div>\n",
       "<style scoped>\n",
       "    .dataframe tbody tr th:only-of-type {\n",
       "        vertical-align: middle;\n",
       "    }\n",
       "\n",
       "    .dataframe tbody tr th {\n",
       "        vertical-align: top;\n",
       "    }\n",
       "\n",
       "    .dataframe thead th {\n",
       "        text-align: right;\n",
       "    }\n",
       "</style>\n",
       "<table border=\"1\" class=\"dataframe\">\n",
       "  <thead>\n",
       "    <tr style=\"text-align: right;\">\n",
       "      <th></th>\n",
       "      <th>DATE</th>\n",
       "      <th>CSUSHPISA</th>\n",
       "    </tr>\n",
       "  </thead>\n",
       "  <tbody>\n",
       "    <tr>\n",
       "      <th>425</th>\n",
       "      <td>2022-06</td>\n",
       "      <td>305.163</td>\n",
       "    </tr>\n",
       "    <tr>\n",
       "      <th>426</th>\n",
       "      <td>2022-07</td>\n",
       "      <td>304.044</td>\n",
       "    </tr>\n",
       "    <tr>\n",
       "      <th>427</th>\n",
       "      <td>2022-08</td>\n",
       "      <td>301.712</td>\n",
       "    </tr>\n",
       "    <tr>\n",
       "      <th>428</th>\n",
       "      <td>2022-09</td>\n",
       "      <td>299.412</td>\n",
       "    </tr>\n",
       "    <tr>\n",
       "      <th>429</th>\n",
       "      <td>2022-10</td>\n",
       "      <td>298.793</td>\n",
       "    </tr>\n",
       "    <tr>\n",
       "      <th>430</th>\n",
       "      <td>2022-11</td>\n",
       "      <td>297.985</td>\n",
       "    </tr>\n",
       "    <tr>\n",
       "      <th>431</th>\n",
       "      <td>2022-12</td>\n",
       "      <td>296.952</td>\n",
       "    </tr>\n",
       "    <tr>\n",
       "      <th>432</th>\n",
       "      <td>2023-01</td>\n",
       "      <td>296.064</td>\n",
       "    </tr>\n",
       "    <tr>\n",
       "      <th>433</th>\n",
       "      <td>2023-02</td>\n",
       "      <td>296.926</td>\n",
       "    </tr>\n",
       "    <tr>\n",
       "      <th>434</th>\n",
       "      <td>2023-03</td>\n",
       "      <td>298.166</td>\n",
       "    </tr>\n",
       "  </tbody>\n",
       "</table>\n",
       "</div>"
      ],
      "text/plain": [
       "        DATE  CSUSHPISA\n",
       "425  2022-06    305.163\n",
       "426  2022-07    304.044\n",
       "427  2022-08    301.712\n",
       "428  2022-09    299.412\n",
       "429  2022-10    298.793\n",
       "430  2022-11    297.985\n",
       "431  2022-12    296.952\n",
       "432  2023-01    296.064\n",
       "433  2023-02    296.926\n",
       "434  2023-03    298.166"
      ]
     },
     "execution_count": 34,
     "metadata": {},
     "output_type": "execute_result"
    }
   ],
   "source": [
    "#checking the index feature we have to map against\n",
    "\n",
    "index = pd.read_csv('index.csv')\n",
    "index['DATE'] = pd.to_datetime(index['DATE']).dt.to_period('M')\n",
    "index.tail(10)\n",
    "\n",
    "#The index this year"
   ]
  },
  {
   "cell_type": "code",
   "execution_count": 35,
   "metadata": {},
   "outputs": [
    {
     "data": {
      "text/html": [
       "<div>\n",
       "<style scoped>\n",
       "    .dataframe tbody tr th:only-of-type {\n",
       "        vertical-align: middle;\n",
       "    }\n",
       "\n",
       "    .dataframe tbody tr th {\n",
       "        vertical-align: top;\n",
       "    }\n",
       "\n",
       "    .dataframe thead th {\n",
       "        text-align: right;\n",
       "    }\n",
       "</style>\n",
       "<table border=\"1\" class=\"dataframe\">\n",
       "  <thead>\n",
       "    <tr style=\"text-align: right;\">\n",
       "      <th></th>\n",
       "      <th>DATE</th>\n",
       "      <th>CSUSHPISA</th>\n",
       "    </tr>\n",
       "  </thead>\n",
       "  <tbody>\n",
       "    <tr>\n",
       "      <th>0</th>\n",
       "      <td>1987-01</td>\n",
       "      <td>63.964</td>\n",
       "    </tr>\n",
       "    <tr>\n",
       "      <th>1</th>\n",
       "      <td>1987-02</td>\n",
       "      <td>64.424</td>\n",
       "    </tr>\n",
       "    <tr>\n",
       "      <th>2</th>\n",
       "      <td>1987-03</td>\n",
       "      <td>64.735</td>\n",
       "    </tr>\n",
       "    <tr>\n",
       "      <th>3</th>\n",
       "      <td>1987-04</td>\n",
       "      <td>65.131</td>\n",
       "    </tr>\n",
       "    <tr>\n",
       "      <th>4</th>\n",
       "      <td>1987-05</td>\n",
       "      <td>65.564</td>\n",
       "    </tr>\n",
       "    <tr>\n",
       "      <th>5</th>\n",
       "      <td>1987-06</td>\n",
       "      <td>66.071</td>\n",
       "    </tr>\n",
       "    <tr>\n",
       "      <th>6</th>\n",
       "      <td>1987-07</td>\n",
       "      <td>66.507</td>\n",
       "    </tr>\n",
       "    <tr>\n",
       "      <th>7</th>\n",
       "      <td>1987-08</td>\n",
       "      <td>66.937</td>\n",
       "    </tr>\n",
       "    <tr>\n",
       "      <th>8</th>\n",
       "      <td>1987-09</td>\n",
       "      <td>67.329</td>\n",
       "    </tr>\n",
       "    <tr>\n",
       "      <th>9</th>\n",
       "      <td>1987-10</td>\n",
       "      <td>67.737</td>\n",
       "    </tr>\n",
       "  </tbody>\n",
       "</table>\n",
       "</div>"
      ],
      "text/plain": [
       "      DATE  CSUSHPISA\n",
       "0  1987-01     63.964\n",
       "1  1987-02     64.424\n",
       "2  1987-03     64.735\n",
       "3  1987-04     65.131\n",
       "4  1987-05     65.564\n",
       "5  1987-06     66.071\n",
       "6  1987-07     66.507\n",
       "7  1987-08     66.937\n",
       "8  1987-09     67.329\n",
       "9  1987-10     67.737"
      ]
     },
     "execution_count": 35,
     "metadata": {},
     "output_type": "execute_result"
    }
   ],
   "source": [
    "# The index at the beginning\n",
    "index.head(10)"
   ]
  },
  {
   "attachments": {},
   "cell_type": "markdown",
   "metadata": {},
   "source": [
    "# getting the income stats to be incorporated to the dataframe"
   ]
  },
  {
   "cell_type": "code",
   "execution_count": 36,
   "metadata": {},
   "outputs": [],
   "source": [
    "income = pd.read_excel(\"income.xlsx\")"
   ]
  },
  {
   "attachments": {},
   "cell_type": "markdown",
   "metadata": {},
   "source": [
    "# cleaning the data and merging it with the dataframe"
   ]
  },
  {
   "cell_type": "code",
   "execution_count": 37,
   "metadata": {},
   "outputs": [],
   "source": [
    "income = income.drop(columns=['id', 'State_Code', 'County',  'Place',\n",
    "        'Primary', 'Zip_Code', 'Area_Code', 'Lat',\n",
    "       'Lon'],axis=1)\n",
    "\n",
    "renamed_columns = {'City':'city','State_Name':'state'}\n",
    "income = income.rename(columns=renamed_columns)\n",
    "\n",
    "column_order = ['State_ab', 'city', 'state', 'Type', 'ALand', 'AWater', 'Mean',\n",
    "       'Median', 'Stdev', 'sum_w']\n",
    "\n",
    "income = income[column_order]\n",
    "\n"
   ]
  },
  {
   "attachments": {},
   "cell_type": "markdown",
   "metadata": {},
   "source": [
    "# merging the dataframes"
   ]
  },
  {
   "cell_type": "code",
   "execution_count": 38,
   "metadata": {},
   "outputs": [],
   "source": [
    "merged_df = df.merge(income , left_on= ['city','state'],right_on=['city','state'],how='left')\n",
    "selected_features = ['State_ab', 'Type', 'ALand', 'AWater', 'Mean',\n",
    "       'Median', 'Stdev', 'sum_w']\n",
    "\n",
    "for feature in selected_features:\n",
    "    df[feature] = merged_df[feature]\n",
    "\n",
    "rerranged_columns = ['status', 'bed', 'bath', 'acre_lot', 'city', 'state','ALand', 'AWater', 'zip_code',\n",
    "       'house_size',  'State_ab', 'Type',\n",
    "        'Mean', 'Median', 'Stdev', 'sum_w','prev_sold_date', 'OldsellingPrice']\n",
    "\n",
    "df = df[rerranged_columns]   "
   ]
  },
  {
   "cell_type": "code",
   "execution_count": 39,
   "metadata": {},
   "outputs": [
    {
     "name": "stdout",
     "output_type": "stream",
     "text": [
      "status                0\n",
      "bed                   0\n",
      "bath                  0\n",
      "acre_lot              0\n",
      "city                  0\n",
      "state                 0\n",
      "ALand              1326\n",
      "AWater             1326\n",
      "zip_code              0\n",
      "house_size            0\n",
      "State_ab           1326\n",
      "Type               1326\n",
      "Mean               1326\n",
      "Median             1326\n",
      "Stdev              1326\n",
      "sum_w              1326\n",
      "prev_sold_date        0\n",
      "OldsellingPrice       0\n",
      "dtype: int64\n"
     ]
    }
   ],
   "source": [
    "null_counts = df.isnull().sum()\n",
    "print(null_counts)"
   ]
  },
  {
   "cell_type": "code",
   "execution_count": 40,
   "metadata": {},
   "outputs": [
    {
     "data": {
      "text/html": [
       "<div>\n",
       "<style scoped>\n",
       "    .dataframe tbody tr th:only-of-type {\n",
       "        vertical-align: middle;\n",
       "    }\n",
       "\n",
       "    .dataframe tbody tr th {\n",
       "        vertical-align: top;\n",
       "    }\n",
       "\n",
       "    .dataframe thead th {\n",
       "        text-align: right;\n",
       "    }\n",
       "</style>\n",
       "<table border=\"1\" class=\"dataframe\">\n",
       "  <thead>\n",
       "    <tr style=\"text-align: right;\">\n",
       "      <th></th>\n",
       "      <th>status</th>\n",
       "      <th>bed</th>\n",
       "      <th>bath</th>\n",
       "      <th>acre_lot</th>\n",
       "      <th>city</th>\n",
       "      <th>state</th>\n",
       "      <th>ALand</th>\n",
       "      <th>AWater</th>\n",
       "      <th>zip_code</th>\n",
       "      <th>house_size</th>\n",
       "      <th>State_ab</th>\n",
       "      <th>Type</th>\n",
       "      <th>Mean</th>\n",
       "      <th>Median</th>\n",
       "      <th>Stdev</th>\n",
       "      <th>sum_w</th>\n",
       "      <th>prev_sold_date</th>\n",
       "      <th>OldsellingPrice</th>\n",
       "    </tr>\n",
       "  </thead>\n",
       "  <tbody>\n",
       "    <tr>\n",
       "      <th>829</th>\n",
       "      <td>for_sale</td>\n",
       "      <td>7.0</td>\n",
       "      <td>3.0</td>\n",
       "      <td>0.09</td>\n",
       "      <td>Dorado</td>\n",
       "      <td>Puerto Rico</td>\n",
       "      <td>2859549.0</td>\n",
       "      <td>36810.0</td>\n",
       "      <td>949.0</td>\n",
       "      <td>1192.0</td>\n",
       "      <td>MA</td>\n",
       "      <td>Track</td>\n",
       "      <td>58507.0</td>\n",
       "      <td>48258.0</td>\n",
       "      <td>47247.0</td>\n",
       "      <td>1091.221424</td>\n",
       "      <td>2019-06</td>\n",
       "      <td>110000.0</td>\n",
       "    </tr>\n",
       "    <tr>\n",
       "      <th>3380</th>\n",
       "      <td>for_sale</td>\n",
       "      <td>7.0</td>\n",
       "      <td>3.0</td>\n",
       "      <td>0.09</td>\n",
       "      <td>Dorado</td>\n",
       "      <td>Puerto Rico</td>\n",
       "      <td>5745207.0</td>\n",
       "      <td>0.0</td>\n",
       "      <td>949.0</td>\n",
       "      <td>1192.0</td>\n",
       "      <td>CT</td>\n",
       "      <td>Track</td>\n",
       "      <td>81277.0</td>\n",
       "      <td>77849.0</td>\n",
       "      <td>52697.0</td>\n",
       "      <td>406.038436</td>\n",
       "      <td>2019-06</td>\n",
       "      <td>110000.0</td>\n",
       "    </tr>\n",
       "    <tr>\n",
       "      <th>5083</th>\n",
       "      <td>for_sale</td>\n",
       "      <td>7.0</td>\n",
       "      <td>3.0</td>\n",
       "      <td>0.09</td>\n",
       "      <td>Dorado</td>\n",
       "      <td>Puerto Rico</td>\n",
       "      <td>2859549.0</td>\n",
       "      <td>36810.0</td>\n",
       "      <td>949.0</td>\n",
       "      <td>1192.0</td>\n",
       "      <td>MA</td>\n",
       "      <td>Track</td>\n",
       "      <td>58507.0</td>\n",
       "      <td>48258.0</td>\n",
       "      <td>47247.0</td>\n",
       "      <td>1091.221424</td>\n",
       "      <td>2019-06</td>\n",
       "      <td>110000.0</td>\n",
       "    </tr>\n",
       "    <tr>\n",
       "      <th>5387</th>\n",
       "      <td>for_sale</td>\n",
       "      <td>7.0</td>\n",
       "      <td>3.0</td>\n",
       "      <td>0.09</td>\n",
       "      <td>Dorado</td>\n",
       "      <td>Puerto Rico</td>\n",
       "      <td>1678138.0</td>\n",
       "      <td>229666.0</td>\n",
       "      <td>949.0</td>\n",
       "      <td>1192.0</td>\n",
       "      <td>MA</td>\n",
       "      <td>Track</td>\n",
       "      <td>16468.0</td>\n",
       "      <td>17561.0</td>\n",
       "      <td>10634.0</td>\n",
       "      <td>37.330667</td>\n",
       "      <td>2019-06</td>\n",
       "      <td>110000.0</td>\n",
       "    </tr>\n",
       "    <tr>\n",
       "      <th>9053</th>\n",
       "      <td>for_sale</td>\n",
       "      <td>7.0</td>\n",
       "      <td>3.0</td>\n",
       "      <td>0.09</td>\n",
       "      <td>Dorado</td>\n",
       "      <td>Puerto Rico</td>\n",
       "      <td>1258340.0</td>\n",
       "      <td>0.0</td>\n",
       "      <td>949.0</td>\n",
       "      <td>1192.0</td>\n",
       "      <td>MA</td>\n",
       "      <td>Track</td>\n",
       "      <td>46149.0</td>\n",
       "      <td>38639.0</td>\n",
       "      <td>39421.0</td>\n",
       "      <td>355.739179</td>\n",
       "      <td>2019-06</td>\n",
       "      <td>110000.0</td>\n",
       "    </tr>\n",
       "  </tbody>\n",
       "</table>\n",
       "</div>"
      ],
      "text/plain": [
       "        status  bed  bath  acre_lot    city        state      ALand    AWater  \\\n",
       "829   for_sale  7.0   3.0      0.09  Dorado  Puerto Rico  2859549.0   36810.0   \n",
       "3380  for_sale  7.0   3.0      0.09  Dorado  Puerto Rico  5745207.0       0.0   \n",
       "5083  for_sale  7.0   3.0      0.09  Dorado  Puerto Rico  2859549.0   36810.0   \n",
       "5387  for_sale  7.0   3.0      0.09  Dorado  Puerto Rico  1678138.0  229666.0   \n",
       "9053  for_sale  7.0   3.0      0.09  Dorado  Puerto Rico  1258340.0       0.0   \n",
       "\n",
       "      zip_code  house_size State_ab   Type     Mean   Median    Stdev  \\\n",
       "829      949.0      1192.0       MA  Track  58507.0  48258.0  47247.0   \n",
       "3380     949.0      1192.0       CT  Track  81277.0  77849.0  52697.0   \n",
       "5083     949.0      1192.0       MA  Track  58507.0  48258.0  47247.0   \n",
       "5387     949.0      1192.0       MA  Track  16468.0  17561.0  10634.0   \n",
       "9053     949.0      1192.0       MA  Track  46149.0  38639.0  39421.0   \n",
       "\n",
       "            sum_w prev_sold_date  OldsellingPrice  \n",
       "829   1091.221424        2019-06         110000.0  \n",
       "3380   406.038436        2019-06         110000.0  \n",
       "5083  1091.221424        2019-06         110000.0  \n",
       "5387    37.330667        2019-06         110000.0  \n",
       "9053   355.739179        2019-06         110000.0  "
      ]
     },
     "execution_count": 40,
     "metadata": {},
     "output_type": "execute_result"
    }
   ],
   "source": [
    "df =df.dropna()\n",
    "\n",
    "df.head()"
   ]
  },
  {
   "attachments": {
    "image.png": {
     "image/png": "[encoded data removed]"
    }
   },
   "cell_type": "markdown",
   "metadata": {},
   "source": [
    "# applying the index\n",
    "![image.png](attachment:image.png)\n",
    "\n",
    "\n"
   ]
  },
  {
   "attachments": {},
   "cell_type": "markdown",
   "metadata": {},
   "source": [
    "# The features taken into considerations\n",
    "\n",
    "    1) The CSUSHPISA \"schuler price index\" is mapped with the respective houses in the dataframe maping the prev sold date with DATE\n",
    "    2) The latest price_index is  = 298.166  as of 2023-03-01\tas last date (as per our information)"
   ]
  },
  {
   "cell_type": "code",
   "execution_count": 41,
   "metadata": {},
   "outputs": [],
   "source": [
    "merged_df = df.merge(index, left_on='prev_sold_date', right_on='DATE', how='left')"
   ]
  },
  {
   "cell_type": "code",
   "execution_count": 42,
   "metadata": {},
   "outputs": [
    {
     "data": {
      "text/html": [
       "<div>\n",
       "<style scoped>\n",
       "    .dataframe tbody tr th:only-of-type {\n",
       "        vertical-align: middle;\n",
       "    }\n",
       "\n",
       "    .dataframe tbody tr th {\n",
       "        vertical-align: top;\n",
       "    }\n",
       "\n",
       "    .dataframe thead th {\n",
       "        text-align: right;\n",
       "    }\n",
       "</style>\n",
       "<table border=\"1\" class=\"dataframe\">\n",
       "  <thead>\n",
       "    <tr style=\"text-align: right;\">\n",
       "      <th></th>\n",
       "      <th>status</th>\n",
       "      <th>bed</th>\n",
       "      <th>bath</th>\n",
       "      <th>acre_lot</th>\n",
       "      <th>city</th>\n",
       "      <th>state</th>\n",
       "      <th>ALand</th>\n",
       "      <th>AWater</th>\n",
       "      <th>zip_code</th>\n",
       "      <th>house_size</th>\n",
       "      <th>State_ab</th>\n",
       "      <th>Type</th>\n",
       "      <th>Mean</th>\n",
       "      <th>Median</th>\n",
       "      <th>Stdev</th>\n",
       "      <th>sum_w</th>\n",
       "      <th>prev_sold_date</th>\n",
       "      <th>OldsellingPrice</th>\n",
       "      <th>DATE</th>\n",
       "      <th>CSUSHPISA</th>\n",
       "    </tr>\n",
       "  </thead>\n",
       "  <tbody>\n",
       "    <tr>\n",
       "      <th>0</th>\n",
       "      <td>for_sale</td>\n",
       "      <td>7.0</td>\n",
       "      <td>3.0</td>\n",
       "      <td>0.09</td>\n",
       "      <td>Dorado</td>\n",
       "      <td>Puerto Rico</td>\n",
       "      <td>2859549.0</td>\n",
       "      <td>36810.0</td>\n",
       "      <td>949.0</td>\n",
       "      <td>1192.0</td>\n",
       "      <td>MA</td>\n",
       "      <td>Track</td>\n",
       "      <td>58507.0</td>\n",
       "      <td>48258.0</td>\n",
       "      <td>47247.0</td>\n",
       "      <td>1091.221424</td>\n",
       "      <td>2019-06</td>\n",
       "      <td>110000.0</td>\n",
       "      <td>2019-06</td>\n",
       "      <td>208.701</td>\n",
       "    </tr>\n",
       "    <tr>\n",
       "      <th>1</th>\n",
       "      <td>for_sale</td>\n",
       "      <td>7.0</td>\n",
       "      <td>3.0</td>\n",
       "      <td>0.09</td>\n",
       "      <td>Dorado</td>\n",
       "      <td>Puerto Rico</td>\n",
       "      <td>5745207.0</td>\n",
       "      <td>0.0</td>\n",
       "      <td>949.0</td>\n",
       "      <td>1192.0</td>\n",
       "      <td>CT</td>\n",
       "      <td>Track</td>\n",
       "      <td>81277.0</td>\n",
       "      <td>77849.0</td>\n",
       "      <td>52697.0</td>\n",
       "      <td>406.038436</td>\n",
       "      <td>2019-06</td>\n",
       "      <td>110000.0</td>\n",
       "      <td>2019-06</td>\n",
       "      <td>208.701</td>\n",
       "    </tr>\n",
       "    <tr>\n",
       "      <th>2</th>\n",
       "      <td>for_sale</td>\n",
       "      <td>7.0</td>\n",
       "      <td>3.0</td>\n",
       "      <td>0.09</td>\n",
       "      <td>Dorado</td>\n",
       "      <td>Puerto Rico</td>\n",
       "      <td>2859549.0</td>\n",
       "      <td>36810.0</td>\n",
       "      <td>949.0</td>\n",
       "      <td>1192.0</td>\n",
       "      <td>MA</td>\n",
       "      <td>Track</td>\n",
       "      <td>58507.0</td>\n",
       "      <td>48258.0</td>\n",
       "      <td>47247.0</td>\n",
       "      <td>1091.221424</td>\n",
       "      <td>2019-06</td>\n",
       "      <td>110000.0</td>\n",
       "      <td>2019-06</td>\n",
       "      <td>208.701</td>\n",
       "    </tr>\n",
       "    <tr>\n",
       "      <th>3</th>\n",
       "      <td>for_sale</td>\n",
       "      <td>7.0</td>\n",
       "      <td>3.0</td>\n",
       "      <td>0.09</td>\n",
       "      <td>Dorado</td>\n",
       "      <td>Puerto Rico</td>\n",
       "      <td>1678138.0</td>\n",
       "      <td>229666.0</td>\n",
       "      <td>949.0</td>\n",
       "      <td>1192.0</td>\n",
       "      <td>MA</td>\n",
       "      <td>Track</td>\n",
       "      <td>16468.0</td>\n",
       "      <td>17561.0</td>\n",
       "      <td>10634.0</td>\n",
       "      <td>37.330667</td>\n",
       "      <td>2019-06</td>\n",
       "      <td>110000.0</td>\n",
       "      <td>2019-06</td>\n",
       "      <td>208.701</td>\n",
       "    </tr>\n",
       "    <tr>\n",
       "      <th>4</th>\n",
       "      <td>for_sale</td>\n",
       "      <td>7.0</td>\n",
       "      <td>3.0</td>\n",
       "      <td>0.09</td>\n",
       "      <td>Dorado</td>\n",
       "      <td>Puerto Rico</td>\n",
       "      <td>1258340.0</td>\n",
       "      <td>0.0</td>\n",
       "      <td>949.0</td>\n",
       "      <td>1192.0</td>\n",
       "      <td>MA</td>\n",
       "      <td>Track</td>\n",
       "      <td>46149.0</td>\n",
       "      <td>38639.0</td>\n",
       "      <td>39421.0</td>\n",
       "      <td>355.739179</td>\n",
       "      <td>2019-06</td>\n",
       "      <td>110000.0</td>\n",
       "      <td>2019-06</td>\n",
       "      <td>208.701</td>\n",
       "    </tr>\n",
       "  </tbody>\n",
       "</table>\n",
       "</div>"
      ],
      "text/plain": [
       "     status  bed  bath  acre_lot    city        state      ALand    AWater  \\\n",
       "0  for_sale  7.0   3.0      0.09  Dorado  Puerto Rico  2859549.0   36810.0   \n",
       "1  for_sale  7.0   3.0      0.09  Dorado  Puerto Rico  5745207.0       0.0   \n",
       "2  for_sale  7.0   3.0      0.09  Dorado  Puerto Rico  2859549.0   36810.0   \n",
       "3  for_sale  7.0   3.0      0.09  Dorado  Puerto Rico  1678138.0  229666.0   \n",
       "4  for_sale  7.0   3.0      0.09  Dorado  Puerto Rico  1258340.0       0.0   \n",
       "\n",
       "   zip_code  house_size State_ab   Type     Mean   Median    Stdev  \\\n",
       "0     949.0      1192.0       MA  Track  58507.0  48258.0  47247.0   \n",
       "1     949.0      1192.0       CT  Track  81277.0  77849.0  52697.0   \n",
       "2     949.0      1192.0       MA  Track  58507.0  48258.0  47247.0   \n",
       "3     949.0      1192.0       MA  Track  16468.0  17561.0  10634.0   \n",
       "4     949.0      1192.0       MA  Track  46149.0  38639.0  39421.0   \n",
       "\n",
       "         sum_w prev_sold_date  OldsellingPrice     DATE  CSUSHPISA  \n",
       "0  1091.221424        2019-06         110000.0  2019-06    208.701  \n",
       "1   406.038436        2019-06         110000.0  2019-06    208.701  \n",
       "2  1091.221424        2019-06         110000.0  2019-06    208.701  \n",
       "3    37.330667        2019-06         110000.0  2019-06    208.701  \n",
       "4   355.739179        2019-06         110000.0  2019-06    208.701  "
      ]
     },
     "execution_count": 42,
     "metadata": {},
     "output_type": "execute_result"
    }
   ],
   "source": [
    "merged_df.head()"
   ]
  },
  {
   "attachments": {},
   "cell_type": "markdown",
   "metadata": {},
   "source": [
    "#     Set the latest index value:latest_index\n",
    "    The latest_index_value represents the current value of the price index.\n",
    "\n",
    "    Convert the 'DATE' column to a pandas datetime object if needed:\n",
    "    If the 'DATE' column in the second DataFrame is not already in the datetime format, it can be converted to a pandas datetime object using the pd.to_datetime() function. This allows for easier handling and manipulation of dates in subsequent calculations.\n",
    "\n",
    "    Merge the two DataFrames on the corresponding dates:\n",
    "    The two DataFrames, df1 and df2, are merged based on the common column 'prev_sold_date' in df and 'DATE' in index. This merging of DataFrames brings the relevant price index information into the larger DataFrame.\n",
    "\n",
    "    Calculate the percentage change in the price index:\n",
    "    The percentage change in the price index is calculated using the formula: percentage_change = (latest_index_value - CSUSHPISA) / CSUSHPISA\n",
    "\n",
    "    Here, latest_index_value is the current value of the price index, and CSUSHPISA represents the historical values of the price index.\n",
    "\n",
    "    Calculate the new selling price by multiplying the old selling price with the percentage change:\n",
    "    The new selling price is calculated by multiplying the old selling price with the sum of 1 and the percentage change. \n",
    "    The formula is: new_selling_price = OldsellingPrice * (1 + percentage_change)\n",
    "\n",
    "    Here, OldsellingPrice represents the original selling price of the house.\n",
    "\n",
    "    Round the new selling price to 2 decimal places:\n",
    "    The new selling price can be rounded to 2 decimal places to improve readability and consistency.\n"
   ]
  },
  {
   "cell_type": "code",
   "execution_count": 43,
   "metadata": {},
   "outputs": [],
   "source": [
    "latest_index = 298.166\n",
    "merged_df['percentage_change'] = (latest_index - merged_df['CSUSHPISA']) / merged_df['CSUSHPISA']\n",
    "merged_df['new_selling_price'] = merged_df['OldsellingPrice'] * (1 + merged_df['percentage_change'])\n",
    "merged_df['new_selling_price'] = merged_df['new_selling_price'].round(2)\n"
   ]
  },
  {
   "cell_type": "code",
   "execution_count": 44,
   "metadata": {},
   "outputs": [],
   "source": [
    "merged_df = merged_df.drop(columns=['DATE','zip_code'],axis=1)"
   ]
  },
  {
   "attachments": {},
   "cell_type": "markdown",
   "metadata": {},
   "source": [
    "# checking the distrubution of house prices"
   ]
  },
  {
   "cell_type": "code",
   "execution_count": 45,
   "metadata": {},
   "outputs": [
    {
     "data": {
      "image/png": "[encoded data removed]",
      "text/plain": [
       "<Figure size 1000x800 with 1 Axes>"
      ]
     },
     "metadata": {},
     "output_type": "display_data"
    }
   ],
   "source": [
    "# Plot a histogram of the new selling prices\n",
    "plt.figure(figsize=(10, 8))  \n",
    "plt.hist(merged_df['new_selling_price'], bins=10)\n",
    "plt.xlabel('New Selling Price')\n",
    "plt.ylabel('Frequency')\n",
    "plt.title('Distribution of New Selling Prices')\n",
    "plt.show()"
   ]
  },
  {
   "cell_type": "code",
   "execution_count": 46,
   "metadata": {},
   "outputs": [
    {
     "data": {
      "image/png": "[encoded data removed]",
      "text/plain": [
       "<Figure size 1000x800 with 1 Axes>"
      ]
     },
     "metadata": {},
     "output_type": "display_data"
    }
   ],
   "source": [
    "# Calculate the count of houses for each price\n",
    "price_counts = merged_df['new_selling_price'].value_counts().sort_index()\n",
    "\n",
    "\n",
    "plt.figure(figsize=(10, 8))  \n",
    "# Create a line graph\n",
    "price_counts.plot(kind='line')\n",
    "\n",
    "# Customize the plot\n",
    "plt.xlabel('New Selling Price')\n",
    "plt.ylabel('Count of Houses')\n",
    "plt.title('Count of Houses over Price Range')\n",
    "\n",
    "# Show the plot\n",
    "plt.show()"
   ]
  },
  {
   "attachments": {},
   "cell_type": "markdown",
   "metadata": {},
   "source": [
    "# now assumptions are to be made about the prone to natural calamity"
   ]
  },
  {
   "cell_type": "code",
   "execution_count": 47,
   "metadata": {},
   "outputs": [],
   "source": [
    "\n",
    "\n",
    "num_rows = len(merged_df)\n",
    "num_positive = int(0.6 * num_rows)  # 60% of the total rows\n",
    "\n",
    "# Generate random values for the prone_to_natural_disasters column\n",
    "values = [1] * num_positive + [0] * (num_rows - num_positive)\n",
    "np.random.shuffle(values)\n",
    "merged_df['prone_to_natural_disasters'] = values\n",
    "\n",
    "merged_df['prone_to_natural_disasters'] = merged_df['city'].map(merged_df.groupby('city')['city'].apply(lambda x: np.random.randint(2)))"
   ]
  },
  {
   "cell_type": "code",
   "execution_count": 48,
   "metadata": {},
   "outputs": [],
   "source": [
    "rearranged_columns = ['status', 'bed', 'bath', 'acre_lot', 'city', 'state', 'ALand', 'AWater',\n",
    "       'house_size', 'State_ab', 'Type', 'Mean', 'Median', 'Stdev', 'sum_w','prone_to_natural_disasters',\n",
    "       'prev_sold_date', 'OldsellingPrice', 'CSUSHPISA', 'percentage_change',\n",
    "       'new_selling_price']\n",
    "\n",
    "merged_df = merged_df[rearranged_columns]"
   ]
  },
  {
   "cell_type": "code",
   "execution_count": 49,
   "metadata": {},
   "outputs": [
    {
     "name": "stdout",
     "output_type": "stream",
     "text": [
      "['Puerto Rico' 'Virgin Islands' 'Massachusetts' 'Connecticut'\n",
      " 'New Hampshire' 'Vermont' 'New York' 'Rhode Island' 'Maine']\n"
     ]
    }
   ],
   "source": [
    "unique_values = merged_df['state'].unique()\n",
    "print(unique_values)"
   ]
  },
  {
   "cell_type": "code",
   "execution_count": 50,
   "metadata": {},
   "outputs": [
    {
     "name": "stdout",
     "output_type": "stream",
     "text": [
      "['Track' 'City' 'CDP' 'Borough' 'Village']\n"
     ]
    }
   ],
   "source": [
    "unique_values = merged_df['Type'].unique()\n",
    "print(unique_values)"
   ]
  },
  {
   "cell_type": "code",
   "execution_count": 51,
   "metadata": {},
   "outputs": [],
   "source": [
    "merged_df.to_csv(\"Model_data.csv\")"
   ]
  },
  {
   "attachments": {},
   "cell_type": "markdown",
   "metadata": {},
   "source": [
    "# The improved dataset is all ready for implementing our machine learning model"
   ]
  },
  {
   "attachments": {},
   "cell_type": "markdown",
   "metadata": {},
   "source": []
  },
  {
   "cell_type": "code",
   "execution_count": null,
   "metadata": {},
   "outputs": [],
   "source": []
  }
 ],
 "metadata": {
  "kernelspec": {
   "display_name": "base",
   "language": "python",
   "name": "python3"
  },
  "language_info": {
   "codemirror_mode": {
    "name": "ipython",
    "version": 3
   },
   "file_extension": ".py",
   "mimetype": "text/x-python",
   "name": "python",
   "nbconvert_exporter": "python",
   "pygments_lexer": "ipython3",
   "version": "3.11.3"
  },
  "orig_nbformat": 4
 },
 "nbformat": 4,
 "nbformat_minor": 2
}
